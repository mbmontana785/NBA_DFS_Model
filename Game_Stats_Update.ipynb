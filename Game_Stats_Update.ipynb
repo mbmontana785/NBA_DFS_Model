{
 "cells": [
  {
   "cell_type": "markdown",
   "id": "8e499484-a01c-4af6-b956-95e979c86d8e",
   "metadata": {},
   "source": [
    "# Updating game_stats table through previous day\n",
    "This notebook updates the game_stats table in our nba_dfs_model database. These are the traditional game stats, plus usage.<br>"
   ]
  },
  {
   "cell_type": "code",
   "execution_count": 1,
   "id": "74c412f6-d466-401b-81bf-b8b071444d7c",
   "metadata": {},
   "outputs": [],
   "source": [
    "import pandas as pd\n",
    "import numpy as np\n",
    "from datetime import datetime, timedelta\n",
    "import requests\n",
    "import sqlite3\n",
    "import sys\n",
    "import os\n",
    "\n",
    "yesterday_only = None\n",
    "#site = None\n",
    "\n",
    "# Get the parent directory where config.py is located\n",
    "#sys.path.append(os.path.abspath(os.path.join(os.getcwd(), \"..\")))\n",
    "\n",
    "API_KEY = None\n",
    "API_HOST = None\n",
    "\n",
    "# if API_KEY is None or API_HOST is None:\n",
    "#     raise ValueError(\"API_KEY and API_HOST must be provided when running via Papermill.\")"
   ]
  },
  {
   "cell_type": "code",
   "execution_count": 2,
   "id": "ffd1f50a-b559-4a13-9eea-5a55636a734f",
   "metadata": {},
   "outputs": [],
   "source": [
    "# ✅ Call datetime.now() only once\n",
    "now = datetime.now()\n",
    "\n",
    "# ✅ Define date variables\n",
    "today = now.strftime('%Y%m%d')\n",
    "yesterday = (now - timedelta(days=1)).strftime('%Y%m%d')\n",
    "last_day = (now - timedelta(days=2)).strftime('%Y%m%d')"
   ]
  },
  {
   "cell_type": "code",
   "execution_count": 3,
   "id": "734f2b98-51ff-44ce-b55c-1bcb63fd3d89",
   "metadata": {},
   "outputs": [
    {
     "data": {
      "text/plain": [
       "('20250210', '20250209', '20250208')"
      ]
     },
     "execution_count": 3,
     "metadata": {},
     "output_type": "execute_result"
    }
   ],
   "source": [
    "today, yesterday, last_day"
   ]
  },
  {
   "cell_type": "code",
   "execution_count": null,
   "id": "88af3374-752b-4ce3-a262-56c165ab9ac9",
   "metadata": {},
   "outputs": [],
   "source": []
  },
  {
   "cell_type": "code",
   "execution_count": 4,
   "id": "0518c951-4d7a-41d6-9f80-cc0252b648bd",
   "metadata": {},
   "outputs": [],
   "source": [
    "from config import API_KEY, API_HOST\n",
    "\n",
    "headers = {\n",
    "    \"x-rapidapi-key\": API_KEY,\n",
    "    \"x-rapidapi-host\": API_HOST\n",
    "}"
   ]
  },
  {
   "cell_type": "code",
   "execution_count": null,
   "id": "a8da822e-1352-4cf6-90ce-4cb78e2e54ae",
   "metadata": {},
   "outputs": [],
   "source": []
  },
  {
   "cell_type": "markdown",
   "id": "56334a79-27e8-4c6e-a8ee-bea115d470c9",
   "metadata": {},
   "source": [
    "The following cell checks that we have game_stats up until two days ago, so that we only have to update the previous day's stats. If the yesterday_only variable is True, then we only need the previous day."
   ]
  },
  {
   "cell_type": "code",
   "execution_count": 5,
   "id": "26a24505-a627-41f7-96a5-9960d03d2945",
   "metadata": {},
   "outputs": [
    {
     "name": "stdout",
     "output_type": "stream",
     "text": [
      "yesterday_only value: True\n"
     ]
    }
   ],
   "source": [
    "# Connect to your SQLite database\n",
    "conn = sqlite3.connect('../nba_dfs_model.db')\n",
    "# \n",
    "# Use parameterized query to prevent SQL injection\n",
    "query = \"SELECT DISTINCT game_id FROM game_stats ORDER BY game_id DESC LIMIT 1\"\n",
    "cursor = conn.cursor()\n",
    "cursor.execute(query)\n",
    "\n",
    "# Fetch the results\n",
    "results = cursor.fetchall()\n",
    "\n",
    "# Print the results\n",
    "for row in results:\n",
    "    if row[0][:8] == yesterday:\n",
    "        print(\"game_stats table is already up to date.\")\n",
    "        sys.exit(0)\n",
    "    elif row[0][:8] == last_day:\n",
    "        yesterday_only = True\n",
    "    else: \n",
    "        yesterday_only = False\n",
    "        last_day = row[0][:8] #datetime.strptime(row[0][:8], '%Y%m%d')\n",
    "        \n",
    "\n",
    "print(f\"yesterday_only value: {yesterday_only}\")\n",
    "\n",
    "# # Close the connection\n",
    "# conn.close()\n",
    "# # with sqlite3.connect(\"nba_dfs_model.db\") as conn:\n",
    "# #     cursor = conn.cursor()\n",
    "\n",
    "# #     # Query to count the number of rows in the table\n",
    "# #     cursor.execute(\"SELECT * FROM game_stats WHERE game_id IN (?, ?);\")\n",
    "# #     query = cursor.fetchall()\n",
    "\n",
    "# #     print(query)\n"
   ]
  },
  {
   "cell_type": "code",
   "execution_count": null,
   "id": "aee24016-e25f-47cf-871f-5e4bb517a30f",
   "metadata": {},
   "outputs": [],
   "source": []
  },
  {
   "cell_type": "code",
   "execution_count": null,
   "id": "0f8989df-0524-4df7-9034-37f759d236c6",
   "metadata": {},
   "outputs": [],
   "source": []
  },
  {
   "cell_type": "markdown",
   "id": "41be93ca-d0f2-499d-9598-b71ab79fade8",
   "metadata": {},
   "source": [
    "If we only need to update with the previous day's stats, the if block of this cell runs. If not, the else block runs beginning with the first day that needs to be updated going through the previous day."
   ]
  },
  {
   "cell_type": "code",
   "execution_count": 6,
   "id": "0ea87d2d-677c-4210-b8e9-7c1c448acdc1",
   "metadata": {},
   "outputs": [],
   "source": [
    "#This code tests to see if the most recent games in the table are from two days ago\n",
    "#If not, it checks for the latest day of games, and retrieves game_ids for all the necessary games\n",
    "#The else part of this statement hasn't been tested as of 12/17/2024\n",
    "\n",
    "game_ids = []\n",
    "no_game_dates = []\n",
    "if yesterday_only:\n",
    "        \n",
    "    url = f\"https://tank01-fantasy-stats.p.rapidapi.com/getNBAGamesForDate?gameDate={yesterday}\"\n",
    "    \n",
    "    headers = {\n",
    "        \"x-rapidapi-key\": API_KEY,\n",
    "        \"x-rapidapi-host\": API_HOST\n",
    "    }\n",
    "    \n",
    "    try:\n",
    "        response = requests.get(url, headers=headers)\n",
    "        response.raise_for_status()  # Raise an error for HTTP codes 4xx/5xx\n",
    "        result = response.json()\n",
    "        \n",
    "        if 'body' in result and result['body']:\n",
    "            for game in result['body']:\n",
    "                game_ids.append(game['gameID'])\n",
    "        else:\n",
    "            no_game_dates.append(current_date)  # Track dates with no games\n",
    "    except requests.exceptions.RequestException as e:\n",
    "        print(f\"Error fetching data for {current_date}: {e}\")\n",
    "    except KeyError:\n",
    "        print(f\"Unexpected response format for {current_date}: {result}\")\n",
    "\n",
    "else:\n",
    "    start_date = datetime.strptime(last_day, '%Y%m%d')\n",
    "    end_date = datetime.strptime(today, '%Y%m%d')\n",
    "    delta = end_date - start_date\n",
    "    diff = delta.days\n",
    "    games_added = 0     # Counter for games added\n",
    "    game_ids = []\n",
    "\n",
    "# Loop through each day\n",
    "    for i in range(1, diff):\n",
    "        day_diff = timedelta(days=i)\n",
    "        current_date = (start_date + day_diff).strftime('%Y%m%d')\n",
    "        \n",
    "        url = f\"https://tank01-fantasy-stats.p.rapidapi.com/getNBAGamesForDate?gameDate={current_date}\"\n",
    "        \n",
    "        # headers = {\n",
    "        #     \"x-rapidapi-key\": \"3103a75392msh7bce7c32fde122cp134393jsn4d42ed6d08a8\",\n",
    "        #     \"x-rapidapi-host\": \"tank01-fantasy-stats.p.rapidapi.com\"\n",
    "        # }\n",
    "        \n",
    "        try:\n",
    "            response = requests.get(url, headers=headers)\n",
    "            response.raise_for_status()  # Raise an error for HTTP codes 4xx/5xx\n",
    "            result = response.json()\n",
    "            \n",
    "            if 'body' in result and result['body']:\n",
    "                for game in result['body']:\n",
    "                    game_ids.append(game['gameID'])                  \n",
    "            else:\n",
    "                no_game_dates.append(current_date)  # Track dates with no games\n",
    "        except requests.exceptions.RequestException as e:\n",
    "            print(f\"Error fetching data for {current_date}: {e}\")\n",
    "        except KeyError:\n",
    "            print(f\"Unexpected response format for {current_date}: {result}\")"
   ]
  },
  {
   "cell_type": "code",
   "execution_count": 7,
   "id": "33749bde-01a7-431b-8c72-99a0caaf22aa",
   "metadata": {},
   "outputs": [
    {
     "name": "stdout",
     "output_type": "stream",
     "text": [
      "[('Brice Sensabaugh', '20250208_UTA@LAC', '949747621869', '29', 'UTA', 'UTA', 7, 0, 0, 3, 0, 3, 0, 0, 0, 2, '0', 2, 6, 2, 3, 30.91, 14), ('Johnny Juzang', '20250208_UTA@LAC', '94934219027', '29', 'UTA', 'UTA', 11, 1, 4, 7, 2, 6, 2, 1, 0, 2, '-6', 3, 19, 4, 1, 22.29, 25), ('Kyle Filipowski', '20250208_UTA@LAC', '948347491869', '29', 'UTA', 'UTA', 7, 5, 1, 5, 3, 2, 4, 2, 0, 4, '0', 0, 13, 5, 2, 15.4, 29), ('Isaiah Collier', '20250208_UTA@LAC', '948240427989', '29', 'UTA', 'UTA', 5, 9, 0, 1, 4, 2, 1, 3, 2, 4, '+1', 0, 5, 3, 2, 13.07, 29), ('MarJon Beauchamp', '20250208_UTA@LAC', '947644156669', '13', 'LAC', 'LAC', 1, 1, 1, 1, 0, 1, 0, 0, 0, 0, '+3', 0, 3, 0, 0, 21.38, 2)]\n"
     ]
    }
   ],
   "source": [
    "#Connect to the database\n",
    "conn = sqlite3.connect(\"../nba_dfs_model.db\")\n",
    "cursor = conn.cursor()\n",
    "\n",
    "# Execute the query\n",
    "query = \"SELECT * FROM game_stats ORDER BY game_id DESC LIMIT 5\" \n",
    "#date = '20231115'  # Replace with your desired date\n",
    "cursor.execute(query)\n",
    "\n",
    "# Fetch results\n",
    "results = cursor.fetchall()\n",
    "print(results)\n",
    "\n",
    "# game_ids = []\n",
    "\n",
    "# # Print results\n",
    "# for result in results:\n",
    "#     game_ids.append(result[0])\n",
    "\n",
    "# Close the cursor and connection\n",
    "cursor.close()\n",
    "conn.close()"
   ]
  },
  {
   "cell_type": "code",
   "execution_count": 8,
   "id": "60b1790a-6750-440b-9a0e-799cc0beaa2d",
   "metadata": {},
   "outputs": [
    {
     "data": {
      "text/plain": [
       "['20250209_TOR@HOU', '20250209_PHI@MIL', '20250209_CHA@DET']"
      ]
     },
     "execution_count": 8,
     "metadata": {},
     "output_type": "execute_result"
    }
   ],
   "source": [
    "game_ids"
   ]
  },
  {
   "cell_type": "code",
   "execution_count": 9,
   "id": "4efde72b-3c8d-49b6-94d3-9e8dda530c1c",
   "metadata": {},
   "outputs": [
    {
     "data": {
      "text/plain": [
       "3"
      ]
     },
     "execution_count": 9,
     "metadata": {},
     "output_type": "execute_result"
    }
   ],
   "source": [
    "len(game_ids)"
   ]
  },
  {
   "cell_type": "code",
   "execution_count": 10,
   "id": "87d1d993-e45d-4bfb-b7ab-76268b47ddb6",
   "metadata": {},
   "outputs": [
    {
     "name": "stdout",
     "output_type": "stream",
     "text": [
      "Database updated successfully with 59 rows added from 3 games.\n"
     ]
    }
   ],
   "source": [
    "# Connect to the SQLite database\n",
    "# Using the game_ids to add game data points\n",
    "with sqlite3.connect(\"../nba_dfs_model.db\") as conn:\n",
    "    cursor = conn.cursor()\n",
    "\n",
    "# Counter for games processed\n",
    "games_processed = 0\n",
    "rows_added = 0  # Initialize the counter for rows added\n",
    "\n",
    "# Main loop to process game IDs\n",
    "for game_id in game_ids:\n",
    "    try:\n",
    "        # Make the API request\n",
    "        url = f\"https://tank01-fantasy-stats.p.rapidapi.com/getNBABoxScore?gameID={game_id}\"\n",
    "        response = requests.get(url, headers=headers)\n",
    "        response.raise_for_status()\n",
    "        result = response.json()\n",
    "\n",
    "        # Skip games with no player stats\n",
    "        if 'body' not in result or 'playerStats' not in result['body']:\n",
    "            print(f\"No player stats found for game ID {game_id}. Skipping...\")\n",
    "            continue\n",
    "\n",
    "        current_dict = result['body']['playerStats']\n",
    "\n",
    "        # Insert player stats into the database\n",
    "        for player_id, stats in current_dict.items():\n",
    "            try:\n",
    "                cursor.execute('''\n",
    "                INSERT OR REPLACE INTO game_stats (\n",
    "                    longName, game_id, player_id, team_id, team, teamAbv, fga, ast, tptfgm, fgm, fta, tptfga,\n",
    "                    OffReb, ftm, blk, DefReb, plusMinus, stl, pts, PF, TOV, usage, mins\n",
    "                ) VALUES (\n",
    "                    ?, ?, ?, ?, ?, ?, ?, ?, ?, ?, ?, ?, ?, ?, ?, ?, ?, ?, ?, ?, ?, ?, ?\n",
    "                )\n",
    "                ''', (\n",
    "                    stats.get('longName', ''), stats['gameID'], stats['playerID'],  stats.get('teamID', ''), \n",
    "                    stats.get('team', ''), stats.get('teamAbv', ''), stats.get('fga', 0), stats.get('ast', 0),\n",
    "                    stats.get('tptfgm', 0), stats.get('fgm', 0), stats.get('fta', 0), stats.get('tptfga', 0),\n",
    "                    stats.get('OffReb', 0), stats.get('ftm', 0), stats.get('blk', 0), stats.get('DefReb', 0), \n",
    "                    stats.get('plusMinus', ''), stats.get('stl', 0), stats.get('pts', 0), stats.get('PF', 0), \n",
    "                    stats.get('TOV', 0), stats.get('usage', 0.0), stats.get('mins', 0)\n",
    "                ))\n",
    "                rows_added += 1\n",
    "                if rows_added % 1000 == 0:\n",
    "                    print(f\"Progress update: {rows_added} rows added so far.\")\n",
    "            except KeyError as e:\n",
    "                print(f\"KeyError: {e} for player {player_id} in game {game_id}\")\n",
    "            except sqlite3.Error as e:\n",
    "                print(f\"SQL Error: {e}\")\n",
    "\n",
    "        conn.commit()\n",
    "\n",
    "        # Update games processed\n",
    "        games_processed += 1\n",
    "        if games_processed % 100 == 0:\n",
    "            print(f\"Progress update: {games_processed} games processed so far.\")\n",
    "\n",
    "    except requests.exceptions.RequestException as e:\n",
    "        print(f\"API request failed for game ID {game_id}: {e}\")\n",
    "    except sqlite3.Error as e:\n",
    "        print(f\"Database error: {e}\")\n",
    "\n",
    "# Final summary\n",
    "print(f\"Database updated successfully with {rows_added} rows added from {games_processed} games.\")\n"
   ]
  },
  {
   "cell_type": "markdown",
   "id": "f1562fc7-0ff5-47f1-bd8e-c61566d53972",
   "metadata": {},
   "source": [
    "Finding number of rows in the game_stats table"
   ]
  },
  {
   "cell_type": "code",
   "execution_count": 11,
   "id": "09efaa7f-a3e4-4540-bd75-08cc1485047d",
   "metadata": {},
   "outputs": [
    {
     "name": "stdout",
     "output_type": "stream",
     "text": [
      "There are 53555 rows in the game_stats table.\n"
     ]
    }
   ],
   "source": [
    "# Connect to the database\n",
    "conn = sqlite3.connect(\"../nba_dfs_model.db\")\n",
    "cursor = conn.cursor()\n",
    "\n",
    "# Execute the query to get the row count\n",
    "query = \"SELECT COUNT(*) FROM game_stats\"\n",
    "cursor.execute(query)\n",
    "\n",
    "# Fetch the result\n",
    "num_rows = cursor.fetchone()[0]\n",
    "print(f\"There are {num_rows} rows in the game_stats table.\")\n",
    "\n",
    "# Close the connection\n",
    "conn.close()\n",
    "\n"
   ]
  },
  {
   "cell_type": "code",
   "execution_count": null,
   "id": "2b496dfa-6da6-421d-b7f7-7811e3204ec7",
   "metadata": {},
   "outputs": [],
   "source": []
  },
  {
   "cell_type": "code",
   "execution_count": null,
   "id": "2facaa50-2a20-4f58-971d-779546751ece",
   "metadata": {},
   "outputs": [],
   "source": []
  },
  {
   "cell_type": "code",
   "execution_count": null,
   "id": "5517eecc-dee3-4574-812b-ad9a09e57c66",
   "metadata": {},
   "outputs": [],
   "source": []
  },
  {
   "cell_type": "code",
   "execution_count": null,
   "id": "213d4d84-47f3-45ce-ad52-0dea0c7acd2c",
   "metadata": {},
   "outputs": [],
   "source": []
  }
 ],
 "metadata": {
  "kernelspec": {
   "display_name": "Python 3 (ipykernel)",
   "language": "python",
   "name": "python3"
  },
  "language_info": {
   "codemirror_mode": {
    "name": "ipython",
    "version": 3
   },
   "file_extension": ".py",
   "mimetype": "text/x-python",
   "name": "python",
   "nbconvert_exporter": "python",
   "pygments_lexer": "ipython3",
   "version": "3.12.8"
  }
 },
 "nbformat": 4,
 "nbformat_minor": 5
}

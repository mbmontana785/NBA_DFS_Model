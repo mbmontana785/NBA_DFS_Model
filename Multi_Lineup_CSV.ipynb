{
 "cells": [
  {
   "cell_type": "markdown",
   "id": "84fe79b6-f88b-4a14-9c35-ccb0b1dd5df1",
   "metadata": {},
   "source": [
    "# Entering up to 150 lineups\n",
    "FanDuel provides a daily CSV that allows players to upload multiple lineups. We bring the CSV to this notebook and then match the names in our APi with the names as they're written in the CSV."
   ]
  },
  {
   "cell_type": "code",
   "execution_count": 131,
   "id": "9f11e259-20af-4a8c-ba13-276c024e2d9c",
   "metadata": {},
   "outputs": [],
   "source": [
    "import pandas as pd\n",
    "import numpy as np\n",
    "from datetime import datetime\n",
    "import os\n",
    "import requests\n",
    "import sqlite3\n",
    "import re"
   ]
  },
  {
   "cell_type": "code",
   "execution_count": 132,
   "id": "453cb8e5-5a26-4ab0-b806-856d3f694428",
   "metadata": {},
   "outputs": [],
   "source": [
    "def clean_name(name):\n",
    "    # Remove periods between initials like C.J., D.J. (case-sensitive)\n",
    "    #name = re.sub(r'\\b([A-Z])\\.\\s*([A-Z])\\.\\b', r'\\1\\2', name)\n",
    "    \n",
    "    # Remove common suffixes like Jr., Sr., III, II, IV (case-sensitive)\n",
    "    cleaned_name = re.sub(r'(\\,|\\.|Sr|Jr|III|II|IV)', '', name).strip()\n",
    "    \n",
    "    return cleaned_name"
   ]
  },
  {
   "cell_type": "code",
   "execution_count": 133,
   "id": "7adf4141-6e4a-436b-976a-ab7727f4a68f",
   "metadata": {},
   "outputs": [],
   "source": [
    "#Finds names as they're written in FanDuel and DraftKings that aren't matched in API\n",
    "def get_names_not_in_api(site_list, api_list):\n",
    "    api_names_set = set(api_list)\n",
    "    site_names_set = set(site_list)\n",
    "    names_not_in_api = site_names_set.difference(api_names_set)\n",
    "    return names_not_in_api"
   ]
  },
  {
   "cell_type": "markdown",
   "id": "40617c72-1c00-4cc3-ac9a-760d2419b674",
   "metadata": {},
   "source": [
    "This is handy! When we trained the model we put together a dictionary for each site with the names paired with their matches in the api. We'll continually update them and then reverse the keys and values."
   ]
  },
  {
   "cell_type": "code",
   "execution_count": 134,
   "id": "1f53e7e7-d3ba-4fbf-8ee9-2ecb0c113aae",
   "metadata": {},
   "outputs": [],
   "source": [
    "fd_names_to_change = {'Nic Claxton': 'Nicolas Claxton', 'Moritz Wagner': 'Moe Wagner', 'Tristan Da Silva': 'Tristan da Silva',\\\n",
    "                     'Dominick Barlow': 'Dom Barlow', 'GG Jackson': 'Gregory Jackson', 'KJ Martin': 'Kenyon Martin',\\\n",
    "                      'Cam Thomas': 'Cameron Thomas', 'Ish Wainright': 'Ishmail Wainright', 'Jeenathan Williams': 'Nate Williams',\\\n",
    "                     'Tristan Da Silva': 'Tristan da Silva'}"
   ]
  },
  {
   "cell_type": "code",
   "execution_count": 135,
   "id": "06712fef-a60f-4cbb-a444-2f06b0a38efd",
   "metadata": {},
   "outputs": [],
   "source": [
    "dk_names_to_change = {'Nic Claxton': 'Nicolas Claxton', 'Moritz Wagner': 'Moe Wagner', 'Alexander Sarr': 'Alex Sarr',\\\n",
    "                     'Dominick Barlow': 'Dom Barlow', 'KJ Martin': 'Kenyon Martin', 'Cam Thomas': 'Cameron Thomas',\\\n",
    "                     'Ronald Holland': 'Ron Holland', 'Marjon Beauchamp': 'MarJon Beauchamp', 'David Jones Garcia': 'David Jones',\\\n",
    "                     'Jeenathan Williams': 'Nate Williams', 'Ish Wainright': 'Ishmail Wainright', 'Guillermo Hernangomez': 'Willy Hernangomez'}"
   ]
  },
  {
   "cell_type": "code",
   "execution_count": 136,
   "id": "60196612-1b82-4217-b8f8-29ed1afd55ee",
   "metadata": {},
   "outputs": [],
   "source": [
    "name_changes_fd = {v: k for k, v in fd_names_to_change.items()}\n",
    "name_changes_dk = {v: k for k, v in dk_names_to_change.items()}"
   ]
  },
  {
   "cell_type": "code",
   "execution_count": 137,
   "id": "b035b99a-d921-4fe8-b5c5-7f9b4aa0784d",
   "metadata": {},
   "outputs": [
    {
     "data": {
      "text/plain": [
       "{'Nicolas Claxton': 'Nic Claxton',\n",
       " 'Moe Wagner': 'Moritz Wagner',\n",
       " 'Tristan da Silva': 'Tristan Da Silva',\n",
       " 'Dom Barlow': 'Dominick Barlow',\n",
       " 'Gregory Jackson': 'GG Jackson',\n",
       " 'Kenyon Martin': 'KJ Martin',\n",
       " 'Cameron Thomas': 'Cam Thomas',\n",
       " 'Ishmail Wainright': 'Ish Wainright',\n",
       " 'Nate Williams': 'Jeenathan Williams'}"
      ]
     },
     "execution_count": 137,
     "metadata": {},
     "output_type": "execute_result"
    }
   ],
   "source": [
    "name_changes_fd"
   ]
  },
  {
   "cell_type": "code",
   "execution_count": 138,
   "id": "f3cf01a2-29a5-4c12-a326-bb49f5ca4f26",
   "metadata": {},
   "outputs": [],
   "source": [
    "#This is the CSV downloaded from the site\n",
    "site_df = pd.read_csv('FD_MultiCSV_022025.csv')"
   ]
  },
  {
   "cell_type": "code",
   "execution_count": 139,
   "id": "7138f696-0fe4-4d92-87a3-358fe725ac75",
   "metadata": {
    "scrolled": true
   },
   "outputs": [
    {
     "data": {
      "text/html": [
       "<div>\n",
       "<style scoped>\n",
       "    .dataframe tbody tr th:only-of-type {\n",
       "        vertical-align: middle;\n",
       "    }\n",
       "\n",
       "    .dataframe tbody tr th {\n",
       "        vertical-align: top;\n",
       "    }\n",
       "\n",
       "    .dataframe thead th {\n",
       "        text-align: right;\n",
       "    }\n",
       "</style>\n",
       "<table border=\"1\" class=\"dataframe\">\n",
       "  <thead>\n",
       "    <tr style=\"text-align: right;\">\n",
       "      <th></th>\n",
       "      <th>PG</th>\n",
       "      <th>PG.1</th>\n",
       "      <th>SG</th>\n",
       "      <th>SG.1</th>\n",
       "      <th>SF</th>\n",
       "      <th>SF.1</th>\n",
       "      <th>PF</th>\n",
       "      <th>PF.1</th>\n",
       "      <th>C</th>\n",
       "      <th>Nickname</th>\n",
       "    </tr>\n",
       "  </thead>\n",
       "  <tbody>\n",
       "    <tr>\n",
       "      <th>0</th>\n",
       "      <td>NaN</td>\n",
       "      <td>NaN</td>\n",
       "      <td>NaN</td>\n",
       "      <td>NaN</td>\n",
       "      <td>NaN</td>\n",
       "      <td>NaN</td>\n",
       "      <td>NaN</td>\n",
       "      <td>NaN</td>\n",
       "      <td>NaN</td>\n",
       "      <td>Nikola Jokic</td>\n",
       "    </tr>\n",
       "    <tr>\n",
       "      <th>1</th>\n",
       "      <td>NaN</td>\n",
       "      <td>NaN</td>\n",
       "      <td>NaN</td>\n",
       "      <td>NaN</td>\n",
       "      <td>NaN</td>\n",
       "      <td>NaN</td>\n",
       "      <td>NaN</td>\n",
       "      <td>NaN</td>\n",
       "      <td>NaN</td>\n",
       "      <td>Victor Wembanyama</td>\n",
       "    </tr>\n",
       "    <tr>\n",
       "      <th>2</th>\n",
       "      <td>NaN</td>\n",
       "      <td>NaN</td>\n",
       "      <td>NaN</td>\n",
       "      <td>NaN</td>\n",
       "      <td>NaN</td>\n",
       "      <td>NaN</td>\n",
       "      <td>NaN</td>\n",
       "      <td>NaN</td>\n",
       "      <td>NaN</td>\n",
       "      <td>Giannis Antetokounmpo</td>\n",
       "    </tr>\n",
       "    <tr>\n",
       "      <th>3</th>\n",
       "      <td>NaN</td>\n",
       "      <td>NaN</td>\n",
       "      <td>NaN</td>\n",
       "      <td>NaN</td>\n",
       "      <td>NaN</td>\n",
       "      <td>NaN</td>\n",
       "      <td>NaN</td>\n",
       "      <td>NaN</td>\n",
       "      <td>NaN</td>\n",
       "      <td>Luka Doncic</td>\n",
       "    </tr>\n",
       "    <tr>\n",
       "      <th>4</th>\n",
       "      <td>NaN</td>\n",
       "      <td>NaN</td>\n",
       "      <td>NaN</td>\n",
       "      <td>NaN</td>\n",
       "      <td>NaN</td>\n",
       "      <td>NaN</td>\n",
       "      <td>NaN</td>\n",
       "      <td>NaN</td>\n",
       "      <td>NaN</td>\n",
       "      <td>Joel Embiid</td>\n",
       "    </tr>\n",
       "    <tr>\n",
       "      <th>...</th>\n",
       "      <td>...</td>\n",
       "      <td>...</td>\n",
       "      <td>...</td>\n",
       "      <td>...</td>\n",
       "      <td>...</td>\n",
       "      <td>...</td>\n",
       "      <td>...</td>\n",
       "      <td>...</td>\n",
       "      <td>...</td>\n",
       "      <td>...</td>\n",
       "    </tr>\n",
       "    <tr>\n",
       "      <th>311</th>\n",
       "      <td>NaN</td>\n",
       "      <td>NaN</td>\n",
       "      <td>NaN</td>\n",
       "      <td>NaN</td>\n",
       "      <td>NaN</td>\n",
       "      <td>NaN</td>\n",
       "      <td>NaN</td>\n",
       "      <td>NaN</td>\n",
       "      <td>NaN</td>\n",
       "      <td>DaRon Holmes</td>\n",
       "    </tr>\n",
       "    <tr>\n",
       "      <th>312</th>\n",
       "      <td>NaN</td>\n",
       "      <td>NaN</td>\n",
       "      <td>NaN</td>\n",
       "      <td>NaN</td>\n",
       "      <td>NaN</td>\n",
       "      <td>NaN</td>\n",
       "      <td>NaN</td>\n",
       "      <td>NaN</td>\n",
       "      <td>NaN</td>\n",
       "      <td>Pacome Dadiet</td>\n",
       "    </tr>\n",
       "    <tr>\n",
       "      <th>313</th>\n",
       "      <td>NaN</td>\n",
       "      <td>NaN</td>\n",
       "      <td>NaN</td>\n",
       "      <td>NaN</td>\n",
       "      <td>NaN</td>\n",
       "      <td>NaN</td>\n",
       "      <td>NaN</td>\n",
       "      <td>NaN</td>\n",
       "      <td>NaN</td>\n",
       "      <td>Justin Minaya</td>\n",
       "    </tr>\n",
       "    <tr>\n",
       "      <th>314</th>\n",
       "      <td>NaN</td>\n",
       "      <td>NaN</td>\n",
       "      <td>NaN</td>\n",
       "      <td>NaN</td>\n",
       "      <td>NaN</td>\n",
       "      <td>NaN</td>\n",
       "      <td>NaN</td>\n",
       "      <td>NaN</td>\n",
       "      <td>NaN</td>\n",
       "      <td>Enrique Freeman</td>\n",
       "    </tr>\n",
       "    <tr>\n",
       "      <th>315</th>\n",
       "      <td>NaN</td>\n",
       "      <td>NaN</td>\n",
       "      <td>NaN</td>\n",
       "      <td>NaN</td>\n",
       "      <td>NaN</td>\n",
       "      <td>NaN</td>\n",
       "      <td>NaN</td>\n",
       "      <td>NaN</td>\n",
       "      <td>NaN</td>\n",
       "      <td>Johnny Furphy</td>\n",
       "    </tr>\n",
       "  </tbody>\n",
       "</table>\n",
       "<p>316 rows × 10 columns</p>\n",
       "</div>"
      ],
      "text/plain": [
       "     PG  PG.1  SG  SG.1  SF  SF.1  PF  PF.1   C               Nickname\n",
       "0   NaN   NaN NaN   NaN NaN   NaN NaN   NaN NaN           Nikola Jokic\n",
       "1   NaN   NaN NaN   NaN NaN   NaN NaN   NaN NaN      Victor Wembanyama\n",
       "2   NaN   NaN NaN   NaN NaN   NaN NaN   NaN NaN  Giannis Antetokounmpo\n",
       "3   NaN   NaN NaN   NaN NaN   NaN NaN   NaN NaN            Luka Doncic\n",
       "4   NaN   NaN NaN   NaN NaN   NaN NaN   NaN NaN            Joel Embiid\n",
       "..   ..   ...  ..   ...  ..   ...  ..   ...  ..                    ...\n",
       "311 NaN   NaN NaN   NaN NaN   NaN NaN   NaN NaN           DaRon Holmes\n",
       "312 NaN   NaN NaN   NaN NaN   NaN NaN   NaN NaN          Pacome Dadiet\n",
       "313 NaN   NaN NaN   NaN NaN   NaN NaN   NaN NaN          Justin Minaya\n",
       "314 NaN   NaN NaN   NaN NaN   NaN NaN   NaN NaN        Enrique Freeman\n",
       "315 NaN   NaN NaN   NaN NaN   NaN NaN   NaN NaN          Johnny Furphy\n",
       "\n",
       "[316 rows x 10 columns]"
      ]
     },
     "execution_count": 139,
     "metadata": {},
     "output_type": "execute_result"
    }
   ],
   "source": [
    "#We process the CSV in Google Sheets so that we have a column for each position\n",
    "#and a column with each player's name as it's written on the site\n",
    "site_df"
   ]
  },
  {
   "cell_type": "code",
   "execution_count": null,
   "id": "817dedec-fd65-4f63-b21e-fe95ff3a1442",
   "metadata": {},
   "outputs": [],
   "source": []
  },
  {
   "cell_type": "code",
   "execution_count": 140,
   "id": "91bbccfb-9d9c-414a-8611-e7a0b5768a68",
   "metadata": {},
   "outputs": [],
   "source": [
    "# url = \"https://tank01-fantasy-stats.p.rapidapi.com/getNBAPlayerList\"\n",
    "\n",
    "# headers = {\n",
    "# \t\"x-rapidapi-key\": \"3103a75392msh7bce7c32fde122cp134393jsn4d42ed6d08a8\",\n",
    "# \t\"x-rapidapi-host\": \"tank01-fantasy-stats.p.rapidapi.com\"\n",
    "# }\n",
    "\n",
    "# response = requests.get(url, headers=headers)\n",
    "\n",
    "# #pri#nt(response.json())"
   ]
  },
  {
   "cell_type": "code",
   "execution_count": 141,
   "id": "72feaed4-0aa8-41ea-8c72-543dac3e6d83",
   "metadata": {},
   "outputs": [],
   "source": [
    "# result = response.json()"
   ]
  },
  {
   "cell_type": "code",
   "execution_count": 142,
   "id": "22766966-ef12-4cb5-8db9-b5490f080ac4",
   "metadata": {},
   "outputs": [],
   "source": [
    "# len(result['body'])"
   ]
  },
  {
   "cell_type": "code",
   "execution_count": 143,
   "id": "0e5fe98e-bf75-4a9c-af77-e9a27c2a8b00",
   "metadata": {},
   "outputs": [],
   "source": [
    "# # Connect to SQLite database (creates a new one if it doesn't exist)\n",
    "# conn = sqlite3.connect(\"nba_dfs_model.db\")\n",
    "# cursor = conn.cursor()\n",
    "\n",
    "# # Create the players table\n",
    "# cursor.execute('''\n",
    "# CREATE TABLE IF NOT EXISTS api_players (\n",
    "#     playerID TEXT PRIMARY KEY,\n",
    "#     pos TEXT,\n",
    "#     team TEXT,\n",
    "#     longName TEXT,\n",
    "#     teamID TEXT\n",
    "# )\n",
    "# ''')\n",
    "\n",
    "# # Insert or update data\n",
    "# for player in result['body']:\n",
    "#     cursor.execute('''\n",
    "#     INSERT OR REPLACE INTO api_players (playerID, pos, team, longName, teamID)\n",
    "#     VALUES (?, ?, ?, ?, ?)\n",
    "#     ''', (player['playerID'], player['pos'], player['team'], player['longName'], player['teamID']))\n",
    "\n",
    "# # Commit and close connection\n",
    "# conn.commit()\n",
    "# conn.close()\n",
    "\n",
    "# print(\"Database and api_players table created successfully!\")"
   ]
  },
  {
   "cell_type": "code",
   "execution_count": 144,
   "id": "4492e5e8-c55f-4a1b-b4a7-7308cdaa61c8",
   "metadata": {},
   "outputs": [],
   "source": [
    "# Connect to the database\n",
    "conn = sqlite3.connect(\"nba_dfs_model.db\")\n",
    "cursor = conn.cursor()\n",
    "\n",
    "# Retrieve all rows from the players table\n",
    "cursor.execute(\"SELECT longName FROM api_players\")\n",
    "\n",
    "# Fetch all distinct game_id values\n",
    "api_names = cursor.fetchall()\n",
    "\n",
    "# Convert the result into a list\n",
    "api_names_list = [row[0] for row in api_names]\n",
    "\n",
    "# Close the connection\n",
    "conn.close()"
   ]
  },
  {
   "cell_type": "code",
   "execution_count": 145,
   "id": "afd1ef62-04ae-441e-869f-27d3e27b7751",
   "metadata": {},
   "outputs": [
    {
     "data": {
      "text/plain": [
       "1040"
      ]
     },
     "execution_count": 145,
     "metadata": {},
     "output_type": "execute_result"
    }
   ],
   "source": [
    "len(api_names_list)"
   ]
  },
  {
   "cell_type": "code",
   "execution_count": 146,
   "id": "7e8021c9-34a3-47ed-9572-3f5dc52fb27a",
   "metadata": {},
   "outputs": [],
   "source": [
    "#Creating a list of the site names on the downloaded CSV\n",
    "fd_names_list = list(site_df['Nickname'])"
   ]
  },
  {
   "cell_type": "code",
   "execution_count": 147,
   "id": "420439e8-b695-4003-b399-18037b036397",
   "metadata": {},
   "outputs": [],
   "source": [
    "#Applying the clean_name function to the site names and API names\n",
    "fd_names_list = [clean_name(name) for name in fd_names_list]\n",
    "api_names_list = [clean_name(name) for name in api_names_list]"
   ]
  },
  {
   "cell_type": "code",
   "execution_count": 148,
   "id": "d1501f1b-7918-4561-961a-3cedb593eb5a",
   "metadata": {},
   "outputs": [],
   "source": [
    "#An one-off replacement\n",
    "api_names_list = [\"Trevor Hudgins\" if name == \"Trevor  Hudgins\" else name for name in api_names_list]"
   ]
  },
  {
   "cell_type": "code",
   "execution_count": 149,
   "id": "543b7c98-dd40-4c3f-9ed0-986580b2a8b6",
   "metadata": {},
   "outputs": [],
   "source": [
    "#Changing the API names, the ones in the model, so that they match the names in the downloaded CSV from the site\n",
    "api_names_list = [name_changes_fd.get(item, item) for item in api_names_list]"
   ]
  },
  {
   "cell_type": "code",
   "execution_count": null,
   "id": "a2d5c1ed-ba93-4a49-a145-f1df1813df7e",
   "metadata": {},
   "outputs": [],
   "source": []
  },
  {
   "cell_type": "code",
   "execution_count": 150,
   "id": "ba881ed9-62a8-498b-aab4-5475e7a9a438",
   "metadata": {},
   "outputs": [],
   "source": [
    "#Changing the lists to sets so that we can find any mismatches the fell through the cracks.\n",
    "api_names_set = set(api_names_list)\n",
    "fd_names_set = set(fd_names_list)"
   ]
  },
  {
   "cell_type": "code",
   "execution_count": 151,
   "id": "985f408c-7783-4541-b25b-eae8fc315691",
   "metadata": {},
   "outputs": [],
   "source": [
    "fd_not_in_api = set.difference(fd_names_set, api_names_set)"
   ]
  },
  {
   "cell_type": "code",
   "execution_count": 152,
   "id": "949c6a34-c500-4fc8-ae6d-32616b3ff993",
   "metadata": {},
   "outputs": [
    {
     "data": {
      "text/plain": [
       "1"
      ]
     },
     "execution_count": 152,
     "metadata": {},
     "output_type": "execute_result"
    }
   ],
   "source": [
    "len(fd_not_in_api)"
   ]
  },
  {
   "cell_type": "code",
   "execution_count": null,
   "id": "8dc76c57-05e6-480f-a062-9d5aa179acf0",
   "metadata": {},
   "outputs": [],
   "source": []
  },
  {
   "cell_type": "markdown",
   "id": "e145326a-bbbc-47eb-8903-a63322b79ef1",
   "metadata": {},
   "source": [
    "# Fuzzy matching\n",
    "Using fuzzy matching to find a names in the API that could match the names as they're written in FanDuel"
   ]
  },
  {
   "cell_type": "code",
   "execution_count": 153,
   "id": "636fd8ba-b2c9-4deb-9359-d66370eaee88",
   "metadata": {},
   "outputs": [],
   "source": [
    "from rapidfuzz import process, fuzz"
   ]
  },
  {
   "cell_type": "code",
   "execution_count": 154,
   "id": "588eeee1-2208-4717-9bff-acb7b1ff65a8",
   "metadata": {},
   "outputs": [],
   "source": [
    "SIMILARITY_THRESHOLD = 70"
   ]
  },
  {
   "cell_type": "code",
   "execution_count": 155,
   "id": "8beb638b-977a-4001-8df7-c6feaa8db4f9",
   "metadata": {},
   "outputs": [],
   "source": [
    "#This function takes the unmatched site name and looks for matchins in the api\n",
    "def fuzzy_match(name, dk_names):\n",
    "    match, score, _ = process.extractOne(name, dk_names, scorer=fuzz.token_sort_ratio)\n",
    "    return match if score >= SIMILARITY_THRESHOLD else None"
   ]
  },
  {
   "cell_type": "code",
   "execution_count": 156,
   "id": "00afc870-7b51-4fb4-ad46-00e17cab005c",
   "metadata": {},
   "outputs": [],
   "source": [
    "fd_not_in_api = list(fd_not_in_api)"
   ]
  },
  {
   "cell_type": "code",
   "execution_count": 157,
   "id": "1444bb5c-d33d-4e44-b90c-829519c1a812",
   "metadata": {},
   "outputs": [
    {
     "data": {
      "text/plain": [
       "['Tristan da Silva']"
      ]
     },
     "execution_count": 157,
     "metadata": {},
     "output_type": "execute_result"
    }
   ],
   "source": [
    "fd_not_in_api"
   ]
  },
  {
   "cell_type": "code",
   "execution_count": 158,
   "id": "63a19b5a-fe05-4573-a446-e77e8ae869c1",
   "metadata": {},
   "outputs": [],
   "source": [
    "matches_in_api = [fuzzy_match(x, api_names_list) for x in fd_not_in_api]"
   ]
  },
  {
   "cell_type": "code",
   "execution_count": 159,
   "id": "cd249a61-8546-4d79-bd87-019893ff5c34",
   "metadata": {},
   "outputs": [
    {
     "data": {
      "text/plain": [
       "['Tristan Da Silva']"
      ]
     },
     "execution_count": 159,
     "metadata": {},
     "output_type": "execute_result"
    }
   ],
   "source": [
    "matches_in_api"
   ]
  },
  {
   "cell_type": "code",
   "execution_count": 160,
   "id": "12ddb8a5-c979-48fa-b4f3-3b7b668d31ea",
   "metadata": {},
   "outputs": [],
   "source": [
    "#I guess here we just update the appropriate dictionary and run the notebook again\n",
    "names_to_change = dict(zip(matches_in_api, fd_not_in_api))"
   ]
  },
  {
   "cell_type": "code",
   "execution_count": 161,
   "id": "4ef9d883-56c4-40d4-94a2-68f172cadeb3",
   "metadata": {},
   "outputs": [
    {
     "data": {
      "text/plain": [
       "{'Tristan Da Silva': 'Tristan da Silva'}"
      ]
     },
     "execution_count": 161,
     "metadata": {},
     "output_type": "execute_result"
    }
   ],
   "source": [
    "names_to_change"
   ]
  },
  {
   "cell_type": "code",
   "execution_count": null,
   "id": "ffaa2462-5173-46f8-a370-db8bfaa99cf2",
   "metadata": {},
   "outputs": [],
   "source": []
  },
  {
   "cell_type": "code",
   "execution_count": null,
   "id": "240e05ba-c100-44ee-9e4b-ac23c0dba2ad",
   "metadata": {},
   "outputs": [],
   "source": [
    "#So now that all the names match ..."
   ]
  },
  {
   "cell_type": "code",
   "execution_count": null,
   "id": "3463a7bb-0216-425e-a9d4-cc7582f27381",
   "metadata": {},
   "outputs": [],
   "source": []
  }
 ],
 "metadata": {
  "kernelspec": {
   "display_name": "Python 3 (ipykernel)",
   "language": "python",
   "name": "python3"
  },
  "language_info": {
   "codemirror_mode": {
    "name": "ipython",
    "version": 3
   },
   "file_extension": ".py",
   "mimetype": "text/x-python",
   "name": "python",
   "nbconvert_exporter": "python",
   "pygments_lexer": "ipython3",
   "version": "3.12.8"
  }
 },
 "nbformat": 4,
 "nbformat_minor": 5
}

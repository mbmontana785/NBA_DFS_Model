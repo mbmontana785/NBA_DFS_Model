{
 "cells": [
  {
   "cell_type": "markdown",
   "id": "74b1179c-bd68-487b-ac23-3d895f7b0459",
   "metadata": {},
   "source": [
    "# Predictions\n",
    "This notebook will generate predictions for FanDuel or DraftKings and store them in our database."
   ]
  },
  {
   "cell_type": "code",
   "execution_count": 27,
   "id": "5f7c7569-0e05-46c6-85a5-3f449cbf093b",
   "metadata": {},
   "outputs": [],
   "source": [
    "import pandas as pd\n",
    "import numpy as np\n",
    "from datetime import datetime\n",
    "import os\n",
    "import requests\n",
    "import sqlite3\n",
    "import re\n",
    "import matplotlib.pyplot as plt\n",
    "import pickle\n",
    "\n",
    "# Get the parent directory where config.py is located\n",
    "#sys.path.append(os.path.abspath(os.path.join(os.getcwd(), \"..\")))\n",
    "\n",
    "API_KEY = None\n",
    "API_HOST = None"
   ]
  },
  {
   "cell_type": "code",
   "execution_count": 28,
   "id": "db1af0de-4188-4df5-bc28-70bcde6fdb4a",
   "metadata": {},
   "outputs": [],
   "source": [
    "from config import API_KEY, API_HOST\n",
    "\n",
    "headers = {\n",
    "    \"x-rapidapi-key\": API_KEY,\n",
    "    \"x-rapidapi-host\": API_HOST\n",
    "}"
   ]
  },
  {
   "cell_type": "code",
   "execution_count": 29,
   "id": "ebefce07-f114-4f94-b0b0-ff2334587262",
   "metadata": {},
   "outputs": [],
   "source": [
    "today = (datetime.now()).strftime('%Y%m%d')"
   ]
  },
  {
   "cell_type": "code",
   "execution_count": 30,
   "id": "6f752c55-9b33-4f30-a80c-fd4d66853a0b",
   "metadata": {},
   "outputs": [],
   "source": [
    "main_df = pd.read_csv('ready_for_pred.csv')"
   ]
  },
  {
   "cell_type": "code",
   "execution_count": 31,
   "id": "253125fe-ef1e-48f4-b1e1-43b045ce940c",
   "metadata": {},
   "outputs": [
    {
     "data": {
      "text/plain": [
       "Index(['longName', 'game_id', 'player_id', 'team_id', 'team', 'teamAbv', 'fga',\n",
       "       'ast', 'tptfgm', 'fgm', 'fta', 'tptfga', 'OffReb', 'ftm', 'blk',\n",
       "       'DefReb', 'plusMinus', 'stl', 'pts', 'fouls', 'TOV', 'usage',\n",
       "       'mins_share', 'mins', 'mins_proj', 'salary', 'date', 'prim_pos', 'PG',\n",
       "       'SG', 'SF', 'PF', 'C'],\n",
       "      dtype='object')"
      ]
     },
     "execution_count": 31,
     "metadata": {},
     "output_type": "execute_result"
    }
   ],
   "source": [
    "main_df.columns"
   ]
  },
  {
   "cell_type": "code",
   "execution_count": 32,
   "id": "f51aac63-a3f0-4acd-8004-f595d2a526f7",
   "metadata": {},
   "outputs": [],
   "source": [
    "#We can determine the site we're playing by seeing if there's a 'UTIL' column\n",
    "#If there is, we're playing DraftKings. If not, we're playing FanDuel\n",
    "site_bool = 'UTIL' not in list(main_df.columns)"
   ]
  },
  {
   "cell_type": "code",
   "execution_count": null,
   "id": "4985c620-2131-48f8-8ad4-3fee597e664d",
   "metadata": {},
   "outputs": [],
   "source": []
  },
  {
   "cell_type": "code",
   "execution_count": null,
   "id": "fb909cb6-89fd-4578-a83c-ce3af191c559",
   "metadata": {},
   "outputs": [],
   "source": []
  },
  {
   "cell_type": "code",
   "execution_count": 33,
   "id": "ab3d3cbc-4bff-426a-bf56-c88cac415716",
   "metadata": {},
   "outputs": [],
   "source": [
    "# Loss functions\n",
    "\n",
    "RMSE_FD = 9.683\n",
    "RMSE_DK = 9.668\n",
    "\n",
    "#pos_cols = []"
   ]
  },
  {
   "cell_type": "code",
   "execution_count": null,
   "id": "e1c80472-6bb0-4e40-a1c0-69efb736fc9b",
   "metadata": {},
   "outputs": [],
   "source": []
  },
  {
   "cell_type": "markdown",
   "id": "20e39ecd-8ebc-4a01-aefc-5719e419ac05",
   "metadata": {},
   "source": [
    "# Scaling and predicting"
   ]
  },
  {
   "cell_type": "code",
   "execution_count": 34,
   "id": "ef2f3057-ce31-43ac-8e4a-84ffd9f324e5",
   "metadata": {},
   "outputs": [],
   "source": [
    "if site_bool: \n",
    "    site = 'FD_'\n",
    "    model_path = \"../../best_XGB_FD.pkl\"\n",
    "    scaler_path = \"../../nba_scaler_fd.pkl\"\n",
    "    rmse = RMSE_FD\n",
    "    #pos_cols = [\"PG\", \"SG\", \"SF\", \"PF\", \"C\"]\n",
    "else:\n",
    "    site = 'DK_'\n",
    "    model_path = \"../../best_XGB_DK.pkl\"\n",
    "    scaler_path = \"../../nba_scaler_dk.pkl\"\n",
    "    rmse = RMSE_DK\n",
    "    #pos_cols = [\"PG\", \"SG\", \"SF\", \"PF\", \"C\", \"G\", \"F\", \"UTIL\"]\n",
    "\n",
    "# Load model and scaler\n",
    "with open(model_path, \"rb\") as model_file, open(scaler_path, \"rb\") as scaler_file:\n",
    "    model = pickle.load(model_file)\n",
    "    scaler = pickle.load(scaler_file)\n",
    "    \n",
    "# Rename for model compatibility\n",
    "main_df = main_df.rename(columns={'PF': 'PF_pos'})\n",
    "X = main_df.rename(columns={'fouls': 'PF'})  # Rename fouls to PF because in the api 'personal fouls' is PF\n",
    "\n",
    "# Select features and scale\n",
    "expected_feature_order = [\n",
    "    'fga', 'ast', 'tptfgm', 'fgm', 'fta', 'tptfga', 'OffReb', 'ftm', 'blk',\n",
    "    'DefReb', 'plusMinus', 'stl', 'pts', 'PF', 'TOV', 'usage', 'mins_share',\n",
    "    'mins', 'mins_proj'\n",
    "]\n",
    "        \n",
    "X = X[expected_feature_order]\n",
    "X_scaled = scaler.transform(X)\n",
    "\n",
    "# Predict with the XGBoost model\n",
    "predictions = model.predict(X_scaled)\n",
    "\n",
    "# Store predictions\n",
    "main_df[site + \"Pred\"] = predictions\n",
    "main_df[site + \"Floor\"] = predictions - rmse\n",
    "main_df[site + \"Ceiling\"] = predictions + rmse\n",
    "main_df[site + \"Value\"] = (main_df[site + 'Pred']/main_df['salary']) * 1000\n",
    "\n",
    "# Restore PF position column\n",
    "main_df = main_df.rename(columns={'PF_pos': 'PF'})\n",
    "\n",
    "\n",
    "#         # Store predictions in session state\n",
    "#         # st.session_state[\"main_df_sorted\"] = main_df_sorted\n",
    "#         # ✅ Calculate \"Value\" column\n",
    "#         st.session_state[\"main_df\"][\"Value\"] = (st.session_state[\"main_df\"][\"Pred\"] / \n",
    "#                                                        st.session_state[\"main_df\"][\"salary\"]) * 1000\n",
    "#         st.success(\"Predictions generated!\")"
   ]
  },
  {
   "cell_type": "code",
   "execution_count": 42,
   "id": "1d15f8e3-03aa-4bec-96be-3b5dc20fa071",
   "metadata": {},
   "outputs": [
    {
     "ename": "KeyError",
     "evalue": "\"['teamAbv'] not found in axis\"",
     "output_type": "error",
     "traceback": [
      "\u001b[1;31m---------------------------------------------------------------------------\u001b[0m",
      "\u001b[1;31mKeyError\u001b[0m                                  Traceback (most recent call last)",
      "Cell \u001b[1;32mIn[42], line 1\u001b[0m\n\u001b[1;32m----> 1\u001b[0m main_df \u001b[38;5;241m=\u001b[39m main_df\u001b[38;5;241m.\u001b[39mdrop(columns \u001b[38;5;241m=\u001b[39m [\u001b[38;5;124m'\u001b[39m\u001b[38;5;124mteamAbv\u001b[39m\u001b[38;5;124m'\u001b[39m, \u001b[38;5;124m'\u001b[39m\u001b[38;5;124mdate\u001b[39m\u001b[38;5;124m'\u001b[39m])\n",
      "File \u001b[1;32m~\\anaconda3\\envs\\nba_dfs_model\\Lib\\site-packages\\pandas\\core\\frame.py:5581\u001b[0m, in \u001b[0;36mDataFrame.drop\u001b[1;34m(self, labels, axis, index, columns, level, inplace, errors)\u001b[0m\n\u001b[0;32m   5433\u001b[0m \u001b[38;5;28;01mdef\u001b[39;00m \u001b[38;5;21mdrop\u001b[39m(\n\u001b[0;32m   5434\u001b[0m     \u001b[38;5;28mself\u001b[39m,\n\u001b[0;32m   5435\u001b[0m     labels: IndexLabel \u001b[38;5;241m|\u001b[39m \u001b[38;5;28;01mNone\u001b[39;00m \u001b[38;5;241m=\u001b[39m \u001b[38;5;28;01mNone\u001b[39;00m,\n\u001b[1;32m   (...)\u001b[0m\n\u001b[0;32m   5442\u001b[0m     errors: IgnoreRaise \u001b[38;5;241m=\u001b[39m \u001b[38;5;124m\"\u001b[39m\u001b[38;5;124mraise\u001b[39m\u001b[38;5;124m\"\u001b[39m,\n\u001b[0;32m   5443\u001b[0m ) \u001b[38;5;241m-\u001b[39m\u001b[38;5;241m>\u001b[39m DataFrame \u001b[38;5;241m|\u001b[39m \u001b[38;5;28;01mNone\u001b[39;00m:\n\u001b[0;32m   5444\u001b[0m \u001b[38;5;250m    \u001b[39m\u001b[38;5;124;03m\"\"\"\u001b[39;00m\n\u001b[0;32m   5445\u001b[0m \u001b[38;5;124;03m    Drop specified labels from rows or columns.\u001b[39;00m\n\u001b[0;32m   5446\u001b[0m \n\u001b[1;32m   (...)\u001b[0m\n\u001b[0;32m   5579\u001b[0m \u001b[38;5;124;03m            weight  1.0     0.8\u001b[39;00m\n\u001b[0;32m   5580\u001b[0m \u001b[38;5;124;03m    \"\"\"\u001b[39;00m\n\u001b[1;32m-> 5581\u001b[0m     \u001b[38;5;28;01mreturn\u001b[39;00m \u001b[38;5;28msuper\u001b[39m()\u001b[38;5;241m.\u001b[39mdrop(\n\u001b[0;32m   5582\u001b[0m         labels\u001b[38;5;241m=\u001b[39mlabels,\n\u001b[0;32m   5583\u001b[0m         axis\u001b[38;5;241m=\u001b[39maxis,\n\u001b[0;32m   5584\u001b[0m         index\u001b[38;5;241m=\u001b[39mindex,\n\u001b[0;32m   5585\u001b[0m         columns\u001b[38;5;241m=\u001b[39mcolumns,\n\u001b[0;32m   5586\u001b[0m         level\u001b[38;5;241m=\u001b[39mlevel,\n\u001b[0;32m   5587\u001b[0m         inplace\u001b[38;5;241m=\u001b[39minplace,\n\u001b[0;32m   5588\u001b[0m         errors\u001b[38;5;241m=\u001b[39merrors,\n\u001b[0;32m   5589\u001b[0m     )\n",
      "File \u001b[1;32m~\\anaconda3\\envs\\nba_dfs_model\\Lib\\site-packages\\pandas\\core\\generic.py:4788\u001b[0m, in \u001b[0;36mNDFrame.drop\u001b[1;34m(self, labels, axis, index, columns, level, inplace, errors)\u001b[0m\n\u001b[0;32m   4786\u001b[0m \u001b[38;5;28;01mfor\u001b[39;00m axis, labels \u001b[38;5;129;01min\u001b[39;00m axes\u001b[38;5;241m.\u001b[39mitems():\n\u001b[0;32m   4787\u001b[0m     \u001b[38;5;28;01mif\u001b[39;00m labels \u001b[38;5;129;01mis\u001b[39;00m \u001b[38;5;129;01mnot\u001b[39;00m \u001b[38;5;28;01mNone\u001b[39;00m:\n\u001b[1;32m-> 4788\u001b[0m         obj \u001b[38;5;241m=\u001b[39m obj\u001b[38;5;241m.\u001b[39m_drop_axis(labels, axis, level\u001b[38;5;241m=\u001b[39mlevel, errors\u001b[38;5;241m=\u001b[39merrors)\n\u001b[0;32m   4790\u001b[0m \u001b[38;5;28;01mif\u001b[39;00m inplace:\n\u001b[0;32m   4791\u001b[0m     \u001b[38;5;28mself\u001b[39m\u001b[38;5;241m.\u001b[39m_update_inplace(obj)\n",
      "File \u001b[1;32m~\\anaconda3\\envs\\nba_dfs_model\\Lib\\site-packages\\pandas\\core\\generic.py:4830\u001b[0m, in \u001b[0;36mNDFrame._drop_axis\u001b[1;34m(self, labels, axis, level, errors, only_slice)\u001b[0m\n\u001b[0;32m   4828\u001b[0m         new_axis \u001b[38;5;241m=\u001b[39m axis\u001b[38;5;241m.\u001b[39mdrop(labels, level\u001b[38;5;241m=\u001b[39mlevel, errors\u001b[38;5;241m=\u001b[39merrors)\n\u001b[0;32m   4829\u001b[0m     \u001b[38;5;28;01melse\u001b[39;00m:\n\u001b[1;32m-> 4830\u001b[0m         new_axis \u001b[38;5;241m=\u001b[39m axis\u001b[38;5;241m.\u001b[39mdrop(labels, errors\u001b[38;5;241m=\u001b[39merrors)\n\u001b[0;32m   4831\u001b[0m     indexer \u001b[38;5;241m=\u001b[39m axis\u001b[38;5;241m.\u001b[39mget_indexer(new_axis)\n\u001b[0;32m   4833\u001b[0m \u001b[38;5;66;03m# Case for non-unique axis\u001b[39;00m\n\u001b[0;32m   4834\u001b[0m \u001b[38;5;28;01melse\u001b[39;00m:\n",
      "File \u001b[1;32m~\\anaconda3\\envs\\nba_dfs_model\\Lib\\site-packages\\pandas\\core\\indexes\\base.py:7070\u001b[0m, in \u001b[0;36mIndex.drop\u001b[1;34m(self, labels, errors)\u001b[0m\n\u001b[0;32m   7068\u001b[0m \u001b[38;5;28;01mif\u001b[39;00m mask\u001b[38;5;241m.\u001b[39many():\n\u001b[0;32m   7069\u001b[0m     \u001b[38;5;28;01mif\u001b[39;00m errors \u001b[38;5;241m!=\u001b[39m \u001b[38;5;124m\"\u001b[39m\u001b[38;5;124mignore\u001b[39m\u001b[38;5;124m\"\u001b[39m:\n\u001b[1;32m-> 7070\u001b[0m         \u001b[38;5;28;01mraise\u001b[39;00m \u001b[38;5;167;01mKeyError\u001b[39;00m(\u001b[38;5;124mf\u001b[39m\u001b[38;5;124m\"\u001b[39m\u001b[38;5;132;01m{\u001b[39;00mlabels[mask]\u001b[38;5;241m.\u001b[39mtolist()\u001b[38;5;132;01m}\u001b[39;00m\u001b[38;5;124m not found in axis\u001b[39m\u001b[38;5;124m\"\u001b[39m)\n\u001b[0;32m   7071\u001b[0m     indexer \u001b[38;5;241m=\u001b[39m indexer[\u001b[38;5;241m~\u001b[39mmask]\n\u001b[0;32m   7072\u001b[0m \u001b[38;5;28;01mreturn\u001b[39;00m \u001b[38;5;28mself\u001b[39m\u001b[38;5;241m.\u001b[39mdelete(indexer)\n",
      "\u001b[1;31mKeyError\u001b[0m: \"['teamAbv'] not found in axis\""
     ]
    }
   ],
   "source": [
    "main_df = main_df.drop(columns = ['teamAbv', 'date'])"
   ]
  },
  {
   "cell_type": "markdown",
   "id": "60c4c231-734d-42ea-a209-c2c9aa07d8fc",
   "metadata": {},
   "source": [
    "Adding to database"
   ]
  },
  {
   "cell_type": "code",
   "execution_count": null,
   "id": "6d1e00b2-a2d5-4301-ade4-4686163a8498",
   "metadata": {},
   "outputs": [],
   "source": [
    "# Define database file path\n",
    "db_path = \"../nba_dfs_model.db\"\n",
    "\n",
    "# Connect to the SQLite database\n",
    "with sqlite3.connect(db_path) as conn:\n",
    "    cursor = conn.cursor()\n",
    "\n",
    "    # Create the table if it does not exist\n",
    "    cursor.execute(\"\"\"\n",
    "    CREATE TABLE IF NOT EXISTS predictions (\n",
    "        longName TEXT,\n",
    "        game_id TEXT,\n",
    "        player_id TEXT,\n",
    "        team_id TEXT,\n",
    "        team TEXT,\n",
    "        fga REAL,\n",
    "        ast REAL,\n",
    "        tptfgm REAL,\n",
    "        fgm REAL,\n",
    "        fta REAL,\n",
    "        tptfga REAL,\n",
    "        OffReb REAL,\n",
    "        ftm REAL,\n",
    "        blk REAL,\n",
    "        DefReb REAL,\n",
    "        plusMinus REAL,\n",
    "        stl REAL,\n",
    "        pts REAL,\n",
    "        fouls REAL,\n",
    "        TOV REAL,\n",
    "        usage REAL,\n",
    "        mins_share REAL,\n",
    "        mins REAL,\n",
    "        mins_proj REAL,\n",
    "        salary INTEGER,\n",
    "        PG INTEGER,\n",
    "        SG INTEGER,\n",
    "        SF INTEGER,\n",
    "        PF INTEGER,\n",
    "        C INTEGER,\n",
    "        G INTEGER, \n",
    "        F INTEGER, \n",
    "        UTIL INTEGER,\n",
    "        FD_Pred REAL,\n",
    "        FD_Floor REAL,\n",
    "        FD_Ceiling REAL,\n",
    "        FD_Value REAL,\n",
    "        DK_Pred REAL,\n",
    "        DK_Floor REAL,\n",
    "        DK_Ceiling REAL,\n",
    "        DK_Value REAL\n",
    "    );\n",
    "    \"\"\")\n",
    "\n",
    "    # Commit changes\n",
    "    conn.commit()\n",
    "\n",
    "print(\"Table 'predictions' is ready.\")\n",
    "\n",
    "# --- Load Final Processed DataFrame (Ensure this is the FINAL `main_df`) ---\n",
    "# If you've already run your notebook and have `main_df` in memory, use it directly.\n",
    "# Otherwise, you can reload from a CSV:\n",
    "# main_df = pd.read_csv(\"final_predictions.csv\")\n",
    "\n",
    "# Ensure column consistency for missing DK/FD values\n",
    "site = \"FD_\" if \"UTIL\" not in main_df.columns else \"DK_\"\n",
    "\n",
    "if site == \"FD_\":\n",
    "    main_df[[\"G\", \"F\", \"UTIL\", \"DK_Pred\", \"DK_Floor\", \"DK_Ceiling\", \"DK_Value\"]] = None\n",
    "else:\n",
    "    main_df[[\"FD_Pred\", \"FD_Floor\", \"FD_Ceiling\", \"FD_Value\"]] = None\n",
    "\n",
    "# Convert column types to match SQLite schema\n",
    "main_df = main_df.astype({\n",
    "    \"salary\": \"Int64\",\n",
    "    \"PG\": \"Int64\", \"SG\": \"Int64\", \"SF\": \"Int64\", \"PF\": \"Int64\", \"C\": \"Int64\",\n",
    "    \"G\": \"Int64\", \"F\": \"Int64\", \"UTIL\": \"Int64\"\n",
    "})\n",
    "\n",
    "# Append new predictions to the database\n",
    "with sqlite3.connect(db_path) as conn:\n",
    "    main_df.to_sql(\"predictions\", conn, if_exists=\"append\", index=False)\n",
    "\n",
    "print(\"Predictions appended successfully!\")\n"
   ]
  },
  {
   "cell_type": "code",
   "execution_count": null,
   "id": "989621bd-baf4-44e4-9e9c-ac59b8be83ba",
   "metadata": {},
   "outputs": [],
   "source": []
  }
 ],
 "metadata": {
  "kernelspec": {
   "display_name": "Python 3 (ipykernel)",
   "language": "python",
   "name": "python3"
  },
  "language_info": {
   "codemirror_mode": {
    "name": "ipython",
    "version": 3
   },
   "file_extension": ".py",
   "mimetype": "text/x-python",
   "name": "python",
   "nbconvert_exporter": "python",
   "pygments_lexer": "ipython3",
   "version": "3.12.8"
  }
 },
 "nbformat": 4,
 "nbformat_minor": 5
}
